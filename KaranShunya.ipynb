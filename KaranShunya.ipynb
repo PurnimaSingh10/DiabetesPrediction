{
 "cells": [
  {
   "cell_type": "code",
   "execution_count": 2,
   "id": "1429953b",
   "metadata": {
    "scrolled": true
   },
   "outputs": [],
   "source": [
    "import cv2\n",
    "import mediapipe as mp\n",
    "import os\n",
    "from matplotlib import pyplot as plt\n",
    "import time\n",
    "import numpy as np\n",
    "import pyttsx3\n",
    "import time\n",
    "import speech_recognition as sr\n",
    "import pyttsx3\n"
   ]
  },
  {
   "cell_type": "code",
   "execution_count": 3,
   "id": "ce06164e",
   "metadata": {},
   "outputs": [],
   "source": [
    "#pip install pyttsx3\n",
    "#pip install pyaudio"
   ]
  },
  {
   "cell_type": "code",
   "execution_count": 4,
   "id": "bd567176",
   "metadata": {},
   "outputs": [],
   "source": [
    "mp_drawing = mp.solutions.drawing_utils\n",
    "mp_drawing_styles = mp.solutions.drawing_styles\n",
    "mp_holistic=mp.solutions.holistic"
   ]
  },
  {
   "cell_type": "code",
   "execution_count": 5,
   "id": "13fd7819",
   "metadata": {},
   "outputs": [],
   "source": [
    "#Hand Detection\n",
    "def mediapipe_hand_Detection(image,model):\n",
    "    image=cv2.cvtColor(image,cv2.COLOR_BGR2RGB)\n",
    "    image.flags.writeable=False  \n",
    "    results=model.process(image)\n",
    "    image.flags.writeable=True\n",
    "    image=cv2.cvtColor(image,cv2.COLOR_RGB2BGR)\n",
    "    return image,results"
   ]
  },
  {
   "cell_type": "code",
   "execution_count": 6,
   "id": "3193644a",
   "metadata": {},
   "outputs": [],
   "source": [
    "def draw_hand_style_landmarks(image, results):\n",
    "    \n",
    "    # Draw face connections\n",
    "   # mp_drawing.draw_landmarks(image, results.face_landmarks, mp_holistic.FACE_CONNECTIONS, \n",
    "   #                          mp_drawing.DrawingSpec(color=(80,110,10), thickness=1, circle_radius=1), \n",
    "    #                         mp_drawing.DrawingSpec(color=(80,256,121), thickness=1, circle_radius=1)\n",
    "     #                        ) \n",
    "    # Draw pose connections\n",
    "    mp_drawing.draw_landmarks(image, results.pose_landmarks, mp_holistic.POSE_CONNECTIONS,\n",
    "                             mp_drawing.DrawingSpec(color=(80,22,10), thickness=2, circle_radius=4), \n",
    "                             mp_drawing.DrawingSpec(color=(80,44,121), thickness=2, circle_radius=2)\n",
    "                             ) \n",
    "    # Draw left hand connections\n",
    "    mp_drawing.draw_landmarks(image, results.left_hand_landmarks, mp_holistic.HAND_CONNECTIONS, \n",
    "                             mp_drawing.DrawingSpec(color=(121,22,76), thickness=2, circle_radius=4), \n",
    "                             mp_drawing.DrawingSpec(color=(121,44,250), thickness=2, circle_radius=2)\n",
    "                             ) \n",
    "    # Draw right hand connections  \n",
    "    mp_drawing.draw_landmarks(image, results.right_hand_landmarks, mp_holistic.HAND_CONNECTIONS, \n",
    "                             mp_drawing.DrawingSpec(color=(245,117,66), thickness=2, circle_radius=4), \n",
    "                             mp_drawing.DrawingSpec(color=(245,66,230), thickness=2, circle_radius=2)\n",
    "                             ) "
   ]
  },
  {
   "cell_type": "code",
   "execution_count": 7,
   "id": "25a91f1f",
   "metadata": {},
   "outputs": [],
   "source": [
    "#Read frame from camera\n",
    "cap = cv2.VideoCapture(0)\n",
    "with mp_holistic.Holistic(min_detection_confidence=0.5, min_tracking_confidence=0.5) as holistic:\n",
    "    while cap.isOpened():\n",
    "        \n",
    "        ret,frame=cap.read()\n",
    "        #Prediction\n",
    "        image,results=mediapipe_hand_Detection(frame,holistic)\n",
    "        \n",
    "        #Landmarks\n",
    "        draw_hand_style_landmarks(image,results)\n",
    "        \n",
    "        cv2.imshow('Raw Webcamp Feed',image)\n",
    "\n",
    "        if cv2.waitKey(10) & 0xFF == ord ('q'):\n",
    "            break\n",
    "\n",
    "    cap.release()\n",
    "    cv2.destroyAllWindows()   "
   ]
  },
  {
   "cell_type": "code",
   "execution_count": 8,
   "id": "0dfe3669",
   "metadata": {},
   "outputs": [],
   "source": [
    "def extract_keypoints(results):\n",
    "    pose = np.array([[res.x, res.y, res.z, res.visibility] for res in results.pose_landmarks.landmark]).flatten() if results.pose_landmarks else np.zeros(33*4)\n",
    "    lh = np.array([[res.x, res.y, res.z] for res in results.left_hand_landmarks.landmark]).flatten() if results.left_hand_landmarks else np.zeros(21*3)\n",
    "    rh = np.array([[res.x, res.y, res.z] for res in results.right_hand_landmarks.landmark]).flatten() if results.right_hand_landmarks else np.zeros(21*3)\n",
    "    return np.concatenate([pose,lh, rh])"
   ]
  },
  {
   "cell_type": "code",
   "execution_count": 9,
   "id": "58bcc2b6",
   "metadata": {},
   "outputs": [],
   "source": [
    "result_test = extract_keypoints(results)"
   ]
  },
  {
   "cell_type": "code",
   "execution_count": 10,
   "id": "06017d1f",
   "metadata": {},
   "outputs": [],
   "source": [
    "#result_test"
   ]
  },
  {
   "cell_type": "code",
   "execution_count": 11,
   "id": "a6232063",
   "metadata": {},
   "outputs": [
    {
     "data": {
      "text/plain": [
       "258"
      ]
     },
     "execution_count": 11,
     "metadata": {},
     "output_type": "execute_result"
    }
   ],
   "source": [
    "len(result_test)"
   ]
  },
  {
   "cell_type": "code",
   "execution_count": 12,
   "id": "09b256c0",
   "metadata": {},
   "outputs": [],
   "source": [
    "#Folder Path\n",
    "DATA_PATH =os.path.join('MP_Data')\n",
    "\n",
    "# Actions that we try to detect\n",
    "actions = np.array(['hello', 'Where', 'hospital','thankyou'])\n",
    "\n",
    "#No of video\n",
    "no_sequences = 20\n",
    "\n",
    "# Frame in each video\n",
    "sequence_length = 30"
   ]
  },
  {
   "cell_type": "code",
   "execution_count": 13,
   "id": "bbc40b6e",
   "metadata": {},
   "outputs": [],
   "source": [
    "for action in actions:\n",
    "    for sequence in range(no_sequences):   \n",
    "        try:\n",
    "            os.makedirs(os.path.join(DATA_PATH,action,str(sequence)))\n",
    "        except:\n",
    "            pass"
   ]
  },
  {
   "cell_type": "code",
   "execution_count": 14,
   "id": "a5a7308b",
   "metadata": {},
   "outputs": [
    {
     "name": "stdout",
     "output_type": "stream",
     "text": [
      "C:\\Users\\user\\Computer Vision\n"
     ]
    }
   ],
   "source": [
    "print(os.getcwd())"
   ]
  },
  {
   "cell_type": "code",
   "execution_count": null,
   "id": "8ce0d8ee",
   "metadata": {},
   "outputs": [],
   "source": [
    "cap = cv2.VideoCapture(0)\n",
    "# Set mediapipe model \n",
    "with mp_holistic.Holistic(min_detection_confidence=0.5, min_tracking_confidence=0.5) as holistic:\n",
    "    \n",
    "    # NEW LOOP\n",
    "    # Loop through actions\n",
    "    for action in actions:\n",
    "        # Loop through sequences aka videos\n",
    "        for sequence in range(no_sequences):\n",
    "            # Loop through video length aka sequence length\n",
    "            for frame_num in range(sequence_length):\n",
    "\n",
    "                # Read feed\n",
    "                ret, frame = cap.read()\n",
    "\n",
    "                # Make detections\n",
    "                image, results = mediapipe_hand_Detection(frame, holistic)\n",
    "\n",
    "                # Draw landmarks\n",
    "                draw_hand_style_landmarks(image, results)\n",
    "                \n",
    "                # NEW Apply wait logic\n",
    "                if frame_num == 0: \n",
    "                    cv2.putText(image, 'STARTING COLLECTION', (120,200), \n",
    "                               cv2.FONT_HERSHEY_SIMPLEX, 1, (0,255, 0), 4, cv2.LINE_AA)\n",
    "                    cv2.putText(image, 'Collecting frames for {} Video Number {}'.format(action, sequence), (15,12), \n",
    "                               cv2.FONT_HERSHEY_SIMPLEX, 0.5, (0, 0, 255), 1, cv2.LINE_AA)\n",
    "                    # Show to screen\n",
    "                    cv2.imshow('OpenCV Feed', image)\n",
    "                    cv2.waitKey(500)\n",
    "                else: \n",
    "                    cv2.putText(image, 'Collecting frames for {} Video Number {}'.format(action, sequence), (15,12), \n",
    "                               cv2.FONT_HERSHEY_SIMPLEX, 0.5, (0, 0, 255), 1, cv2.LINE_AA)\n",
    "                    # Show to screen\n",
    "                    cv2.imshow('OpenCV Feed', image)\n",
    "                \n",
    "                # NEW Export keypoints\n",
    "                keypoints = extract_keypoints(results)\n",
    "                npy_path = os.path.join(DATA_PATH, action, str(sequence), str(frame_num))\n",
    "                np.save(npy_path, keypoints)\n",
    "\n",
    "                # Break gracefully\n",
    "                if cv2.waitKey(10) & 0xFF == ord('q'):\n",
    "                    break\n",
    "                    \n",
    "    cap.release()\n",
    "    cv2.destroyAllWindows()"
   ]
  },
  {
   "cell_type": "code",
   "execution_count": 15,
   "id": "4bb987ff",
   "metadata": {},
   "outputs": [],
   "source": [
    "#Pre-process Data\n",
    "from sklearn.model_selection import train_test_split\n",
    "from tensorflow.keras.utils import to_categorical"
   ]
  },
  {
   "cell_type": "code",
   "execution_count": 16,
   "id": "212e9d00",
   "metadata": {},
   "outputs": [],
   "source": [
    "label_map={label:num for num,label in enumerate(actions)}"
   ]
  },
  {
   "cell_type": "code",
   "execution_count": 17,
   "id": "19132813",
   "metadata": {},
   "outputs": [
    {
     "data": {
      "text/plain": [
       "{'hello': 0, 'Where': 1, 'hospital': 2, 'thankyou': 3}"
      ]
     },
     "execution_count": 17,
     "metadata": {},
     "output_type": "execute_result"
    }
   ],
   "source": [
    "label_map"
   ]
  },
  {
   "cell_type": "code",
   "execution_count": 18,
   "id": "71429443",
   "metadata": {},
   "outputs": [
    {
     "data": {
      "text/plain": [
       "'MP_Data'"
      ]
     },
     "execution_count": 18,
     "metadata": {},
     "output_type": "execute_result"
    }
   ],
   "source": [
    "DATA_PATH"
   ]
  },
  {
   "cell_type": "code",
   "execution_count": 19,
   "id": "7d367bb4",
   "metadata": {},
   "outputs": [
    {
     "name": "stdout",
     "output_type": "stream",
     "text": [
      "hello\n",
      "Where\n",
      "hospital\n",
      "thankyou\n"
     ]
    }
   ],
   "source": [
    "sequences, labels = [], []\n",
    "for action in actions:\n",
    "    print(action)\n",
    "    for sequence in range(no_sequences):\n",
    "        window = []\n",
    "        for frame_num in range(sequence_length):\n",
    "            res = np.load(os.path.join(DATA_PATH, action, str(sequence), \"{}.npy\".format(frame_num)))\n",
    "            window.append(res)\n",
    "        sequences.append(window)\n",
    "        labels.append(label_map[action])"
   ]
  },
  {
   "cell_type": "code",
   "execution_count": 20,
   "id": "f78c0bd9",
   "metadata": {},
   "outputs": [
    {
     "data": {
      "text/plain": [
       "(80, 30, 258)"
      ]
     },
     "execution_count": 20,
     "metadata": {},
     "output_type": "execute_result"
    }
   ],
   "source": [
    "np.array(sequences).shape"
   ]
  },
  {
   "cell_type": "code",
   "execution_count": 21,
   "id": "7bca8d0d",
   "metadata": {},
   "outputs": [],
   "source": [
    "X = np.array(sequences)"
   ]
  },
  {
   "cell_type": "code",
   "execution_count": 22,
   "id": "74da8376",
   "metadata": {},
   "outputs": [
    {
     "data": {
      "text/plain": [
       "(80,)"
      ]
     },
     "execution_count": 22,
     "metadata": {},
     "output_type": "execute_result"
    }
   ],
   "source": [
    "np.array(labels).shape"
   ]
  },
  {
   "cell_type": "code",
   "execution_count": 23,
   "id": "65cede02",
   "metadata": {},
   "outputs": [],
   "source": [
    "y = to_categorical(labels).astype(int)"
   ]
  },
  {
   "cell_type": "code",
   "execution_count": 24,
   "id": "383c7093",
   "metadata": {},
   "outputs": [],
   "source": [
    "X_train, X_test, y_train, y_test = train_test_split(X, y, test_size=0.05)"
   ]
  },
  {
   "cell_type": "code",
   "execution_count": 25,
   "id": "e66bd8a0",
   "metadata": {},
   "outputs": [
    {
     "data": {
      "text/plain": [
       "(4, 30, 258)"
      ]
     },
     "execution_count": 25,
     "metadata": {},
     "output_type": "execute_result"
    }
   ],
   "source": [
    "X_test.shape"
   ]
  },
  {
   "cell_type": "code",
   "execution_count": 29,
   "id": "bd47b0b3",
   "metadata": {},
   "outputs": [],
   "source": [
    "#LSTM Algorithm\n",
    "from tensorflow.keras.models import Sequential\n",
    "from tensorflow.keras.layers import LSTM, Dense\n",
    "from tensorflow.keras.callbacks import TensorBoard"
   ]
  },
  {
   "cell_type": "code",
   "execution_count": 30,
   "id": "13a8403a",
   "metadata": {},
   "outputs": [],
   "source": [
    "log_dir = os.path.join('Logs')\n",
    "tb_callback = TensorBoard(log_dir=log_dir)"
   ]
  },
  {
   "cell_type": "code",
   "execution_count": 31,
   "id": "fe904d3e",
   "metadata": {},
   "outputs": [],
   "source": [
    "model = Sequential()\n",
    "model.add(LSTM(64, return_sequences=True, activation='relu', input_shape=(30,258)))\n",
    "model.add(LSTM(128, return_sequences=True, activation='relu'))\n",
    "model.add(LSTM(64, return_sequences=False, activation='relu'))\n",
    "model.add(Dense(64, activation='relu'))\n",
    "model.add(Dense(32, activation='relu'))\n",
    "model.add(Dense(actions.shape[0], activation='softmax'))"
   ]
  },
  {
   "cell_type": "code",
   "execution_count": 32,
   "id": "ec46ff82",
   "metadata": {},
   "outputs": [],
   "source": [
    "model.compile(optimizer='Adam', loss='categorical_crossentropy', metrics=['categorical_accuracy'])"
   ]
  },
  {
   "cell_type": "code",
   "execution_count": 33,
   "id": "0acff6df",
   "metadata": {},
   "outputs": [
    {
     "name": "stdout",
     "output_type": "stream",
     "text": [
      "Epoch 1/200\n",
      "3/3 [==============================] - 5s 347ms/step - loss: 1.3559 - categorical_accuracy: 0.3553\n",
      "Epoch 2/200\n",
      "3/3 [==============================] - 0s 85ms/step - loss: 1.1952 - categorical_accuracy: 0.3684\n",
      "Epoch 3/200\n",
      "3/3 [==============================] - 0s 87ms/step - loss: 1.0416 - categorical_accuracy: 0.4342\n",
      "Epoch 4/200\n",
      "3/3 [==============================] - 0s 80ms/step - loss: 0.9916 - categorical_accuracy: 0.4211\n",
      "Epoch 5/200\n",
      "3/3 [==============================] - 0s 84ms/step - loss: 0.9945 - categorical_accuracy: 0.4211 0s - loss: 1.0311 - categorical_accuracy: 0.\n",
      "Epoch 6/200\n",
      "3/3 [==============================] - 0s 78ms/step - loss: 0.9328 - categorical_accuracy: 0.5000\n",
      "Epoch 7/200\n",
      "3/3 [==============================] - 0s 81ms/step - loss: 0.8645 - categorical_accuracy: 0.5263\n",
      "Epoch 8/200\n",
      "3/3 [==============================] - 0s 82ms/step - loss: 0.8677 - categorical_accuracy: 0.6579\n",
      "Epoch 9/200\n",
      "3/3 [==============================] - 0s 78ms/step - loss: 0.7488 - categorical_accuracy: 0.6974\n",
      "Epoch 10/200\n",
      "3/3 [==============================] - 0s 80ms/step - loss: 0.5690 - categorical_accuracy: 0.7237\n",
      "Epoch 11/200\n",
      "3/3 [==============================] - 0s 80ms/step - loss: 0.4912 - categorical_accuracy: 0.8026\n",
      "Epoch 12/200\n",
      "3/3 [==============================] - 0s 79ms/step - loss: 0.7710 - categorical_accuracy: 0.7500\n",
      "Epoch 13/200\n",
      "3/3 [==============================] - 0s 79ms/step - loss: 0.7449 - categorical_accuracy: 0.6579\n",
      "Epoch 14/200\n",
      "3/3 [==============================] - 0s 82ms/step - loss: 0.5453 - categorical_accuracy: 0.8947\n",
      "Epoch 15/200\n",
      "3/3 [==============================] - 0s 81ms/step - loss: 0.4069 - categorical_accuracy: 0.8421\n",
      "Epoch 16/200\n",
      "3/3 [==============================] - 0s 80ms/step - loss: 0.9753 - categorical_accuracy: 0.7763\n",
      "Epoch 17/200\n",
      "3/3 [==============================] - 0s 81ms/step - loss: 0.6623 - categorical_accuracy: 0.7368\n",
      "Epoch 18/200\n",
      "3/3 [==============================] - 0s 88ms/step - loss: 0.6108 - categorical_accuracy: 0.8158\n",
      "Epoch 19/200\n",
      "3/3 [==============================] - 0s 85ms/step - loss: 0.5318 - categorical_accuracy: 0.8026\n",
      "Epoch 20/200\n",
      "3/3 [==============================] - 0s 83ms/step - loss: 0.3640 - categorical_accuracy: 0.8816\n",
      "Epoch 21/200\n",
      "3/3 [==============================] - 0s 79ms/step - loss: 0.2096 - categorical_accuracy: 0.9342\n",
      "Epoch 22/200\n",
      "3/3 [==============================] - 0s 86ms/step - loss: 0.2747 - categorical_accuracy: 0.9605\n",
      "Epoch 23/200\n",
      "3/3 [==============================] - 0s 80ms/step - loss: 0.2224 - categorical_accuracy: 0.9342\n",
      "Epoch 24/200\n",
      "3/3 [==============================] - 0s 79ms/step - loss: 0.1295 - categorical_accuracy: 0.9737\n",
      "Epoch 25/200\n",
      "3/3 [==============================] - 0s 85ms/step - loss: 0.3955 - categorical_accuracy: 0.9474\n",
      "Epoch 26/200\n",
      "3/3 [==============================] - 0s 79ms/step - loss: 0.3693 - categorical_accuracy: 0.9211\n",
      "Epoch 27/200\n",
      "3/3 [==============================] - 0s 80ms/step - loss: 0.2255 - categorical_accuracy: 0.9079\n",
      "Epoch 28/200\n",
      "3/3 [==============================] - 0s 80ms/step - loss: 0.4325 - categorical_accuracy: 0.8421\n",
      "Epoch 29/200\n",
      "3/3 [==============================] - 0s 79ms/step - loss: 0.3609 - categorical_accuracy: 0.9474\n",
      "Epoch 30/200\n",
      "3/3 [==============================] - 0s 80ms/step - loss: 0.2330 - categorical_accuracy: 0.9605\n",
      "Epoch 31/200\n",
      "3/3 [==============================] - 0s 80ms/step - loss: 0.1547 - categorical_accuracy: 0.9605\n",
      "Epoch 32/200\n",
      "3/3 [==============================] - 0s 85ms/step - loss: 0.1656 - categorical_accuracy: 0.9474\n",
      "Epoch 33/200\n",
      "3/3 [==============================] - 0s 84ms/step - loss: 0.1421 - categorical_accuracy: 0.9737\n",
      "Epoch 34/200\n",
      "3/3 [==============================] - 0s 86ms/step - loss: 0.1001 - categorical_accuracy: 0.9605\n",
      "Epoch 35/200\n",
      "3/3 [==============================] - 0s 101ms/step - loss: 0.1397 - categorical_accuracy: 0.9605\n",
      "Epoch 36/200\n",
      "3/3 [==============================] - 0s 78ms/step - loss: 0.1010 - categorical_accuracy: 1.0000\n",
      "Epoch 37/200\n",
      "3/3 [==============================] - 0s 77ms/step - loss: 0.1678 - categorical_accuracy: 0.9211\n",
      "Epoch 38/200\n",
      "3/3 [==============================] - 0s 84ms/step - loss: 0.1223 - categorical_accuracy: 0.9605\n",
      "Epoch 39/200\n",
      "3/3 [==============================] - 0s 83ms/step - loss: 0.0925 - categorical_accuracy: 0.9737\n",
      "Epoch 40/200\n",
      "3/3 [==============================] - 0s 84ms/step - loss: 0.1833 - categorical_accuracy: 0.9474\n",
      "Epoch 41/200\n",
      "3/3 [==============================] - 0s 84ms/step - loss: 0.9548 - categorical_accuracy: 0.8289\n",
      "Epoch 42/200\n",
      "3/3 [==============================] - 0s 84ms/step - loss: 1.1637 - categorical_accuracy: 0.7500\n",
      "Epoch 43/200\n",
      "3/3 [==============================] - 0s 85ms/step - loss: 0.3508 - categorical_accuracy: 0.8816\n",
      "Epoch 44/200\n",
      "3/3 [==============================] - 0s 83ms/step - loss: 0.4849 - categorical_accuracy: 0.8553\n",
      "Epoch 45/200\n",
      "3/3 [==============================] - 0s 85ms/step - loss: 0.3760 - categorical_accuracy: 0.8816\n",
      "Epoch 46/200\n",
      "3/3 [==============================] - 0s 78ms/step - loss: 0.2809 - categorical_accuracy: 0.8947\n",
      "Epoch 47/200\n",
      "3/3 [==============================] - 0s 77ms/step - loss: 0.4782 - categorical_accuracy: 0.8289\n",
      "Epoch 48/200\n",
      "3/3 [==============================] - 0s 81ms/step - loss: 2.0870 - categorical_accuracy: 0.6447\n",
      "Epoch 49/200\n",
      "3/3 [==============================] - 0s 77ms/step - loss: 0.7217 - categorical_accuracy: 0.7500\n",
      "Epoch 50/200\n",
      "3/3 [==============================] - 0s 78ms/step - loss: 0.5109 - categorical_accuracy: 0.7632\n",
      "Epoch 51/200\n",
      "3/3 [==============================] - 0s 81ms/step - loss: 0.3845 - categorical_accuracy: 0.8553\n",
      "Epoch 52/200\n",
      "3/3 [==============================] - 0s 80ms/step - loss: 0.4668 - categorical_accuracy: 0.8026\n",
      "Epoch 53/200\n",
      "3/3 [==============================] - 0s 87ms/step - loss: 0.3558 - categorical_accuracy: 0.8816\n",
      "Epoch 54/200\n",
      "3/3 [==============================] - 0s 77ms/step - loss: 0.2944 - categorical_accuracy: 0.9211\n",
      "Epoch 55/200\n",
      "3/3 [==============================] - 0s 79ms/step - loss: 0.2228 - categorical_accuracy: 0.9342\n",
      "Epoch 56/200\n",
      "3/3 [==============================] - 0s 79ms/step - loss: 0.2262 - categorical_accuracy: 0.9474\n",
      "Epoch 57/200\n",
      "3/3 [==============================] - 0s 77ms/step - loss: 0.1820 - categorical_accuracy: 0.9474\n",
      "Epoch 58/200\n",
      "3/3 [==============================] - 0s 80ms/step - loss: 0.1926 - categorical_accuracy: 0.9474\n",
      "Epoch 59/200\n",
      "3/3 [==============================] - 0s 83ms/step - loss: 0.1625 - categorical_accuracy: 0.9342\n",
      "Epoch 60/200\n",
      "3/3 [==============================] - 0s 82ms/step - loss: 0.1164 - categorical_accuracy: 0.9605\n",
      "Epoch 61/200\n",
      "3/3 [==============================] - 0s 81ms/step - loss: 0.1080 - categorical_accuracy: 0.9737\n",
      "Epoch 62/200\n",
      "3/3 [==============================] - 0s 83ms/step - loss: 0.0974 - categorical_accuracy: 0.9737\n",
      "Epoch 63/200\n",
      "3/3 [==============================] - 0s 86ms/step - loss: 0.1305 - categorical_accuracy: 0.9474\n",
      "Epoch 64/200\n",
      "3/3 [==============================] - 0s 88ms/step - loss: 0.1261 - categorical_accuracy: 0.9474\n",
      "Epoch 65/200\n",
      "3/3 [==============================] - 0s 86ms/step - loss: 0.0986 - categorical_accuracy: 0.9474\n",
      "Epoch 66/200\n",
      "3/3 [==============================] - 0s 79ms/step - loss: 0.1929 - categorical_accuracy: 0.9474\n",
      "Epoch 67/200\n",
      "3/3 [==============================] - 0s 86ms/step - loss: 0.0957 - categorical_accuracy: 0.9737\n",
      "Epoch 68/200\n",
      "3/3 [==============================] - 0s 78ms/step - loss: 0.0902 - categorical_accuracy: 0.9868\n",
      "Epoch 69/200\n",
      "3/3 [==============================] - 0s 81ms/step - loss: 0.0517 - categorical_accuracy: 1.0000\n",
      "Epoch 70/200\n",
      "3/3 [==============================] - 0s 80ms/step - loss: 0.0562 - categorical_accuracy: 0.9737\n",
      "Epoch 71/200\n",
      "3/3 [==============================] - 0s 82ms/step - loss: 0.1108 - categorical_accuracy: 0.9605\n",
      "Epoch 72/200\n",
      "3/3 [==============================] - 0s 82ms/step - loss: 0.0962 - categorical_accuracy: 0.9737\n",
      "Epoch 73/200\n",
      "3/3 [==============================] - 0s 92ms/step - loss: 0.0934 - categorical_accuracy: 0.9605\n",
      "Epoch 74/200\n"
     ]
    },
    {
     "name": "stdout",
     "output_type": "stream",
     "text": [
      "3/3 [==============================] - 0s 90ms/step - loss: 0.0647 - categorical_accuracy: 0.9868\n",
      "Epoch 75/200\n",
      "3/3 [==============================] - 0s 82ms/step - loss: 0.0536 - categorical_accuracy: 0.9868\n",
      "Epoch 76/200\n",
      "3/3 [==============================] - 0s 83ms/step - loss: 0.0411 - categorical_accuracy: 1.0000\n",
      "Epoch 77/200\n",
      "3/3 [==============================] - 0s 84ms/step - loss: 0.0464 - categorical_accuracy: 1.0000\n",
      "Epoch 78/200\n",
      "3/3 [==============================] - 0s 91ms/step - loss: 0.0226 - categorical_accuracy: 1.0000\n",
      "Epoch 79/200\n",
      "3/3 [==============================] - 0s 87ms/step - loss: 0.1143 - categorical_accuracy: 0.9605\n",
      "Epoch 80/200\n",
      "3/3 [==============================] - 0s 79ms/step - loss: 2.7001 - categorical_accuracy: 0.7500\n",
      "Epoch 81/200\n",
      "3/3 [==============================] - 0s 74ms/step - loss: 1.9046 - categorical_accuracy: 0.6579\n",
      "Epoch 82/200\n",
      "3/3 [==============================] - 0s 81ms/step - loss: 0.4762 - categorical_accuracy: 0.7500\n",
      "Epoch 83/200\n",
      "3/3 [==============================] - 0s 83ms/step - loss: 0.6923 - categorical_accuracy: 0.7237\n",
      "Epoch 84/200\n",
      "3/3 [==============================] - 0s 83ms/step - loss: 0.8251 - categorical_accuracy: 0.7237\n",
      "Epoch 85/200\n",
      "3/3 [==============================] - 0s 83ms/step - loss: 0.8081 - categorical_accuracy: 0.7105\n",
      "Epoch 86/200\n",
      "3/3 [==============================] - 0s 84ms/step - loss: 0.7002 - categorical_accuracy: 0.7237\n",
      "Epoch 87/200\n",
      "3/3 [==============================] - 0s 84ms/step - loss: 0.5907 - categorical_accuracy: 0.7237\n",
      "Epoch 88/200\n",
      "3/3 [==============================] - 0s 78ms/step - loss: 0.5159 - categorical_accuracy: 0.8289\n",
      "Epoch 89/200\n",
      "3/3 [==============================] - 0s 78ms/step - loss: 0.3854 - categorical_accuracy: 0.9737\n",
      "Epoch 90/200\n",
      "3/3 [==============================] - 0s 80ms/step - loss: 0.2925 - categorical_accuracy: 0.9737\n",
      "Epoch 91/200\n",
      "3/3 [==============================] - 0s 76ms/step - loss: 0.1392 - categorical_accuracy: 0.9605\n",
      "Epoch 92/200\n",
      "3/3 [==============================] - 0s 76ms/step - loss: 0.1370 - categorical_accuracy: 0.9737\n",
      "Epoch 93/200\n",
      "3/3 [==============================] - 0s 77ms/step - loss: 0.2192 - categorical_accuracy: 0.9474\n",
      "Epoch 94/200\n",
      "3/3 [==============================] - 0s 83ms/step - loss: 1.2053 - categorical_accuracy: 0.6184\n",
      "Epoch 95/200\n",
      "3/3 [==============================] - 0s 77ms/step - loss: 1.0394 - categorical_accuracy: 0.6184\n",
      "Epoch 96/200\n",
      "3/3 [==============================] - 0s 82ms/step - loss: 0.5456 - categorical_accuracy: 0.7632\n",
      "Epoch 97/200\n",
      "3/3 [==============================] - 0s 81ms/step - loss: 0.4667 - categorical_accuracy: 0.8553\n",
      "Epoch 98/200\n",
      "3/3 [==============================] - 0s 80ms/step - loss: 0.3771 - categorical_accuracy: 0.9211\n",
      "Epoch 99/200\n",
      "3/3 [==============================] - 0s 73ms/step - loss: 0.2624 - categorical_accuracy: 0.9605\n",
      "Epoch 100/200\n",
      "3/3 [==============================] - 0s 76ms/step - loss: 0.1651 - categorical_accuracy: 0.9605\n",
      "Epoch 101/200\n",
      "3/3 [==============================] - 0s 77ms/step - loss: 0.1844 - categorical_accuracy: 0.9474\n",
      "Epoch 102/200\n",
      "3/3 [==============================] - 0s 81ms/step - loss: 0.1288 - categorical_accuracy: 0.9605\n",
      "Epoch 103/200\n",
      "3/3 [==============================] - 0s 78ms/step - loss: 0.1257 - categorical_accuracy: 0.9342\n",
      "Epoch 104/200\n",
      "3/3 [==============================] - 0s 80ms/step - loss: 0.0745 - categorical_accuracy: 0.9737\n",
      "Epoch 105/200\n",
      "3/3 [==============================] - 0s 80ms/step - loss: 0.0769 - categorical_accuracy: 0.9605\n",
      "Epoch 106/200\n",
      "3/3 [==============================] - 0s 78ms/step - loss: 0.0547 - categorical_accuracy: 0.9737\n",
      "Epoch 107/200\n",
      "3/3 [==============================] - 0s 80ms/step - loss: 0.0313 - categorical_accuracy: 0.9868\n",
      "Epoch 108/200\n",
      "3/3 [==============================] - 0s 78ms/step - loss: 0.0504 - categorical_accuracy: 0.9868\n",
      "Epoch 109/200\n",
      "3/3 [==============================] - 0s 80ms/step - loss: 0.0559 - categorical_accuracy: 0.9868\n",
      "Epoch 110/200\n",
      "3/3 [==============================] - 0s 81ms/step - loss: 0.0596 - categorical_accuracy: 0.9605\n",
      "Epoch 111/200\n",
      "3/3 [==============================] - 0s 82ms/step - loss: 0.1633 - categorical_accuracy: 0.9211\n",
      "Epoch 112/200\n",
      "3/3 [==============================] - 0s 82ms/step - loss: 0.1915 - categorical_accuracy: 0.9474\n",
      "Epoch 113/200\n",
      "3/3 [==============================] - 0s 82ms/step - loss: 0.2384 - categorical_accuracy: 0.9079\n",
      "Epoch 114/200\n",
      "3/3 [==============================] - 0s 80ms/step - loss: 0.1178 - categorical_accuracy: 0.9868\n",
      "Epoch 115/200\n",
      "3/3 [==============================] - 0s 83ms/step - loss: 0.0828 - categorical_accuracy: 0.9868\n",
      "Epoch 116/200\n",
      "3/3 [==============================] - 0s 79ms/step - loss: 0.0879 - categorical_accuracy: 0.9737\n",
      "Epoch 117/200\n",
      "3/3 [==============================] - 0s 81ms/step - loss: 0.0844 - categorical_accuracy: 0.9737\n",
      "Epoch 118/200\n",
      "3/3 [==============================] - 0s 79ms/step - loss: 0.0925 - categorical_accuracy: 0.9605\n",
      "Epoch 119/200\n",
      "3/3 [==============================] - 0s 77ms/step - loss: 0.0571 - categorical_accuracy: 0.9737\n",
      "Epoch 120/200\n",
      "3/3 [==============================] - 0s 82ms/step - loss: 0.0501 - categorical_accuracy: 0.9868\n",
      "Epoch 121/200\n",
      "3/3 [==============================] - 0s 81ms/step - loss: 0.0489 - categorical_accuracy: 1.0000\n",
      "Epoch 122/200\n",
      "3/3 [==============================] - 0s 81ms/step - loss: 0.0526 - categorical_accuracy: 0.9868\n",
      "Epoch 123/200\n",
      "3/3 [==============================] - 0s 83ms/step - loss: 0.0416 - categorical_accuracy: 0.9868\n",
      "Epoch 124/200\n",
      "3/3 [==============================] - 0s 80ms/step - loss: 0.0360 - categorical_accuracy: 0.9868\n",
      "Epoch 125/200\n",
      "3/3 [==============================] - 0s 79ms/step - loss: 0.0332 - categorical_accuracy: 0.9868\n",
      "Epoch 126/200\n",
      "3/3 [==============================] - 0s 91ms/step - loss: 0.0343 - categorical_accuracy: 0.9868\n",
      "Epoch 127/200\n",
      "3/3 [==============================] - 0s 82ms/step - loss: 0.0284 - categorical_accuracy: 0.9868\n",
      "Epoch 128/200\n",
      "3/3 [==============================] - 0s 87ms/step - loss: 0.0202 - categorical_accuracy: 1.0000\n",
      "Epoch 129/200\n",
      "3/3 [==============================] - 0s 73ms/step - loss: 0.0145 - categorical_accuracy: 1.0000\n",
      "Epoch 130/200\n",
      "3/3 [==============================] - 0s 80ms/step - loss: 0.0119 - categorical_accuracy: 1.0000\n",
      "Epoch 131/200\n",
      "3/3 [==============================] - 0s 80ms/step - loss: 0.0106 - categorical_accuracy: 1.0000\n",
      "Epoch 132/200\n",
      "3/3 [==============================] - 0s 78ms/step - loss: 0.0086 - categorical_accuracy: 1.0000\n",
      "Epoch 133/200\n",
      "3/3 [==============================] - 0s 77ms/step - loss: 0.0075 - categorical_accuracy: 1.0000\n",
      "Epoch 134/200\n",
      "3/3 [==============================] - 0s 80ms/step - loss: 0.0065 - categorical_accuracy: 1.0000\n",
      "Epoch 135/200\n",
      "3/3 [==============================] - 0s 83ms/step - loss: 0.0056 - categorical_accuracy: 1.0000\n",
      "Epoch 136/200\n",
      "3/3 [==============================] - 0s 80ms/step - loss: 0.0051 - categorical_accuracy: 1.0000\n",
      "Epoch 137/200\n",
      "3/3 [==============================] - 0s 82ms/step - loss: 0.0045 - categorical_accuracy: 1.0000\n",
      "Epoch 138/200\n",
      "3/3 [==============================] - 0s 87ms/step - loss: 0.0040 - categorical_accuracy: 1.0000\n",
      "Epoch 139/200\n",
      "3/3 [==============================] - 0s 81ms/step - loss: 0.0038 - categorical_accuracy: 1.0000\n",
      "Epoch 140/200\n",
      "3/3 [==============================] - 0s 84ms/step - loss: 0.0034 - categorical_accuracy: 1.0000\n",
      "Epoch 141/200\n",
      "3/3 [==============================] - 0s 90ms/step - loss: 0.0030 - categorical_accuracy: 1.0000\n",
      "Epoch 142/200\n",
      "3/3 [==============================] - 0s 82ms/step - loss: 0.0028 - categorical_accuracy: 1.0000\n",
      "Epoch 143/200\n",
      "3/3 [==============================] - 0s 79ms/step - loss: 0.0026 - categorical_accuracy: 1.0000\n",
      "Epoch 144/200\n",
      "3/3 [==============================] - 0s 84ms/step - loss: 0.0024 - categorical_accuracy: 1.0000\n",
      "Epoch 145/200\n",
      "3/3 [==============================] - 0s 78ms/step - loss: 0.0022 - categorical_accuracy: 1.0000\n",
      "Epoch 146/200\n",
      "3/3 [==============================] - 0s 82ms/step - loss: 0.0020 - categorical_accuracy: 1.0000\n",
      "Epoch 147/200\n"
     ]
    },
    {
     "name": "stdout",
     "output_type": "stream",
     "text": [
      "3/3 [==============================] - 0s 76ms/step - loss: 0.0019 - categorical_accuracy: 1.0000\n",
      "Epoch 148/200\n",
      "3/3 [==============================] - 0s 86ms/step - loss: 0.0018 - categorical_accuracy: 1.0000\n",
      "Epoch 149/200\n",
      "3/3 [==============================] - 0s 80ms/step - loss: 0.0017 - categorical_accuracy: 1.0000\n",
      "Epoch 150/200\n",
      "3/3 [==============================] - 0s 80ms/step - loss: 0.0016 - categorical_accuracy: 1.0000\n",
      "Epoch 151/200\n",
      "3/3 [==============================] - 0s 81ms/step - loss: 0.0015 - categorical_accuracy: 1.0000\n",
      "Epoch 152/200\n",
      "3/3 [==============================] - 0s 84ms/step - loss: 0.0014 - categorical_accuracy: 1.0000\n",
      "Epoch 153/200\n",
      "3/3 [==============================] - 0s 83ms/step - loss: 0.0013 - categorical_accuracy: 1.0000\n",
      "Epoch 154/200\n",
      "3/3 [==============================] - 0s 83ms/step - loss: 0.0013 - categorical_accuracy: 1.0000\n",
      "Epoch 155/200\n",
      "3/3 [==============================] - 0s 79ms/step - loss: 0.0012 - categorical_accuracy: 1.0000\n",
      "Epoch 156/200\n",
      "3/3 [==============================] - 0s 76ms/step - loss: 0.0011 - categorical_accuracy: 1.0000\n",
      "Epoch 157/200\n",
      "3/3 [==============================] - 0s 74ms/step - loss: 0.0011 - categorical_accuracy: 1.0000\n",
      "Epoch 158/200\n",
      "3/3 [==============================] - 0s 78ms/step - loss: 0.0010 - categorical_accuracy: 1.0000\n",
      "Epoch 159/200\n",
      "3/3 [==============================] - 0s 77ms/step - loss: 9.3939e-04 - categorical_accuracy: 1.0000\n",
      "Epoch 160/200\n",
      "3/3 [==============================] - 0s 79ms/step - loss: 8.9066e-04 - categorical_accuracy: 1.0000\n",
      "Epoch 161/200\n",
      "3/3 [==============================] - 0s 75ms/step - loss: 8.6519e-04 - categorical_accuracy: 1.0000\n",
      "Epoch 162/200\n",
      "3/3 [==============================] - 0s 76ms/step - loss: 8.0886e-04 - categorical_accuracy: 1.0000\n",
      "Epoch 163/200\n",
      "3/3 [==============================] - 0s 80ms/step - loss: 7.7253e-04 - categorical_accuracy: 1.0000\n",
      "Epoch 164/200\n",
      "3/3 [==============================] - 0s 78ms/step - loss: 7.3938e-04 - categorical_accuracy: 1.0000\n",
      "Epoch 165/200\n",
      "3/3 [==============================] - 0s 77ms/step - loss: 7.0820e-04 - categorical_accuracy: 1.0000\n",
      "Epoch 166/200\n",
      "3/3 [==============================] - 0s 78ms/step - loss: 6.7379e-04 - categorical_accuracy: 1.0000\n",
      "Epoch 167/200\n",
      "3/3 [==============================] - 0s 78ms/step - loss: 6.4529e-04 - categorical_accuracy: 1.0000\n",
      "Epoch 168/200\n",
      "3/3 [==============================] - 0s 78ms/step - loss: 6.1800e-04 - categorical_accuracy: 1.0000\n",
      "Epoch 169/200\n",
      "3/3 [==============================] - 0s 79ms/step - loss: 5.9461e-04 - categorical_accuracy: 1.0000\n",
      "Epoch 170/200\n",
      "3/3 [==============================] - 0s 80ms/step - loss: 5.7133e-04 - categorical_accuracy: 1.0000\n",
      "Epoch 171/200\n",
      "3/3 [==============================] - 0s 76ms/step - loss: 5.6134e-04 - categorical_accuracy: 1.0000\n",
      "Epoch 172/200\n",
      "3/3 [==============================] - 0s 77ms/step - loss: 5.2827e-04 - categorical_accuracy: 1.0000\n",
      "Epoch 173/200\n",
      "3/3 [==============================] - 0s 76ms/step - loss: 5.1533e-04 - categorical_accuracy: 1.0000\n",
      "Epoch 174/200\n",
      "3/3 [==============================] - 0s 78ms/step - loss: 5.0306e-04 - categorical_accuracy: 1.0000\n",
      "Epoch 175/200\n",
      "3/3 [==============================] - 0s 81ms/step - loss: 4.7944e-04 - categorical_accuracy: 1.0000\n",
      "Epoch 176/200\n",
      "3/3 [==============================] - 0s 79ms/step - loss: 4.6687e-04 - categorical_accuracy: 1.0000\n",
      "Epoch 177/200\n",
      "3/3 [==============================] - 0s 79ms/step - loss: 4.5660e-04 - categorical_accuracy: 1.0000\n",
      "Epoch 178/200\n",
      "3/3 [==============================] - 0s 78ms/step - loss: 4.3943e-04 - categorical_accuracy: 1.0000\n",
      "Epoch 179/200\n",
      "3/3 [==============================] - 0s 76ms/step - loss: 4.2655e-04 - categorical_accuracy: 1.0000\n",
      "Epoch 180/200\n",
      "3/3 [==============================] - 0s 78ms/step - loss: 4.1396e-04 - categorical_accuracy: 1.0000\n",
      "Epoch 181/200\n",
      "3/3 [==============================] - 0s 77ms/step - loss: 4.0733e-04 - categorical_accuracy: 1.0000\n",
      "Epoch 182/200\n",
      "3/3 [==============================] - 0s 78ms/step - loss: 3.9663e-04 - categorical_accuracy: 1.0000\n",
      "Epoch 183/200\n",
      "3/3 [==============================] - 0s 77ms/step - loss: 3.8932e-04 - categorical_accuracy: 1.0000\n",
      "Epoch 184/200\n",
      "3/3 [==============================] - 0s 77ms/step - loss: 3.7982e-04 - categorical_accuracy: 1.0000\n",
      "Epoch 185/200\n",
      "3/3 [==============================] - 0s 78ms/step - loss: 3.7940e-04 - categorical_accuracy: 1.0000\n",
      "Epoch 186/200\n",
      "3/3 [==============================] - 0s 77ms/step - loss: 3.6961e-04 - categorical_accuracy: 1.0000\n",
      "Epoch 187/200\n",
      "3/3 [==============================] - 0s 83ms/step - loss: 3.6653e-04 - categorical_accuracy: 1.0000\n",
      "Epoch 188/200\n",
      "3/3 [==============================] - 0s 88ms/step - loss: 3.5540e-04 - categorical_accuracy: 1.0000\n",
      "Epoch 189/200\n",
      "3/3 [==============================] - 0s 81ms/step - loss: 3.4337e-04 - categorical_accuracy: 1.0000\n",
      "Epoch 190/200\n",
      "3/3 [==============================] - 0s 78ms/step - loss: 3.4073e-04 - categorical_accuracy: 1.0000\n",
      "Epoch 191/200\n",
      "3/3 [==============================] - 0s 80ms/step - loss: 3.3264e-04 - categorical_accuracy: 1.0000\n",
      "Epoch 192/200\n",
      "3/3 [==============================] - 0s 81ms/step - loss: 3.2337e-04 - categorical_accuracy: 1.0000\n",
      "Epoch 193/200\n",
      "3/3 [==============================] - 0s 78ms/step - loss: 3.1180e-04 - categorical_accuracy: 1.0000\n",
      "Epoch 194/200\n",
      "3/3 [==============================] - 0s 80ms/step - loss: 3.0988e-04 - categorical_accuracy: 1.0000\n",
      "Epoch 195/200\n",
      "3/3 [==============================] - 0s 80ms/step - loss: 3.0480e-04 - categorical_accuracy: 1.0000\n",
      "Epoch 196/200\n",
      "3/3 [==============================] - 0s 79ms/step - loss: 3.1132e-04 - categorical_accuracy: 1.0000\n",
      "Epoch 197/200\n",
      "3/3 [==============================] - 0s 81ms/step - loss: 3.0760e-04 - categorical_accuracy: 1.0000\n",
      "Epoch 198/200\n",
      "3/3 [==============================] - 0s 79ms/step - loss: 3.0403e-04 - categorical_accuracy: 1.0000\n",
      "Epoch 199/200\n",
      "3/3 [==============================] - 0s 78ms/step - loss: 2.8294e-04 - categorical_accuracy: 1.0000\n",
      "Epoch 200/200\n",
      "3/3 [==============================] - 0s 85ms/step - loss: 2.8245e-04 - categorical_accuracy: 1.0000\n"
     ]
    },
    {
     "data": {
      "text/plain": [
       "<tensorflow.python.keras.callbacks.History at 0x15d72904be0>"
      ]
     },
     "execution_count": 33,
     "metadata": {},
     "output_type": "execute_result"
    }
   ],
   "source": [
    "model.fit(X_train, y_train, epochs=200, callbacks=[tb_callback])"
   ]
  },
  {
   "cell_type": "code",
   "execution_count": 35,
   "id": "b0bada71",
   "metadata": {},
   "outputs": [
    {
     "name": "stdout",
     "output_type": "stream",
     "text": [
      "Model: \"sequential\"\n",
      "_________________________________________________________________\n",
      "Layer (type)                 Output Shape              Param #   \n",
      "=================================================================\n",
      "lstm (LSTM)                  (None, 30, 64)            82688     \n",
      "_________________________________________________________________\n",
      "lstm_1 (LSTM)                (None, 30, 128)           98816     \n",
      "_________________________________________________________________\n",
      "lstm_2 (LSTM)                (None, 64)                49408     \n",
      "_________________________________________________________________\n",
      "dense (Dense)                (None, 64)                4160      \n",
      "_________________________________________________________________\n",
      "dense_1 (Dense)              (None, 32)                2080      \n",
      "_________________________________________________________________\n",
      "dense_2 (Dense)              (None, 4)                 132       \n",
      "=================================================================\n",
      "Total params: 237,284\n",
      "Trainable params: 237,284\n",
      "Non-trainable params: 0\n",
      "_________________________________________________________________\n"
     ]
    }
   ],
   "source": [
    "model.summary()"
   ]
  },
  {
   "cell_type": "code",
   "execution_count": 96,
   "id": "697c0cc1",
   "metadata": {},
   "outputs": [],
   "source": [
    "model.save('action.h5')"
   ]
  },
  {
   "cell_type": "code",
   "execution_count": 97,
   "id": "21cd7bfb",
   "metadata": {},
   "outputs": [],
   "source": [
    "res = model.predict(X_test)"
   ]
  },
  {
   "cell_type": "code",
   "execution_count": 98,
   "id": "2f4e6e40",
   "metadata": {},
   "outputs": [
    {
     "data": {
      "text/plain": [
       "array([[0.0000000e+00, 0.0000000e+00, 0.0000000e+00, 1.0000000e+00],\n",
       "       [0.0000000e+00, 0.0000000e+00, 0.0000000e+00, 1.0000000e+00],\n",
       "       [2.0257144e-20, 1.0413079e-08, 1.0000000e+00, 1.4997923e-08],\n",
       "       [1.0000000e+00, 4.8951387e-13, 0.0000000e+00, 9.7435222e-32]],\n",
       "      dtype=float32)"
      ]
     },
     "execution_count": 98,
     "metadata": {},
     "output_type": "execute_result"
    }
   ],
   "source": [
    "res"
   ]
  },
  {
   "cell_type": "code",
   "execution_count": 101,
   "id": "95c439e8",
   "metadata": {},
   "outputs": [
    {
     "data": {
      "text/plain": [
       "'thankyou'"
      ]
     },
     "execution_count": 101,
     "metadata": {},
     "output_type": "execute_result"
    }
   ],
   "source": [
    "actions[np.argmax(res[0])]"
   ]
  },
  {
   "cell_type": "code",
   "execution_count": 36,
   "id": "ffa3fcac",
   "metadata": {},
   "outputs": [],
   "source": [
    "from tensorflow.keras.applications import imagenet_utils\n",
    "#del model\n",
    "#model.save('action.hdf5')\n"
   ]
  },
  {
   "cell_type": "code",
   "execution_count": 37,
   "id": "03faa22f",
   "metadata": {},
   "outputs": [],
   "source": [
    "#del model"
   ]
  },
  {
   "cell_type": "code",
   "execution_count": 38,
   "id": "7f6c7151",
   "metadata": {},
   "outputs": [],
   "source": [
    "model.load_weights('action.h5')"
   ]
  },
  {
   "cell_type": "code",
   "execution_count": 39,
   "id": "58278a64",
   "metadata": {},
   "outputs": [],
   "source": [
    "#Confusion Matrix and accuracy\n",
    "from sklearn.metrics import multilabel_confusion_matrix, accuracy_score"
   ]
  },
  {
   "cell_type": "code",
   "execution_count": 41,
   "id": "bc99bc5c",
   "metadata": {},
   "outputs": [],
   "source": [
    "yhat = model.predict(X_test)"
   ]
  },
  {
   "cell_type": "code",
   "execution_count": 42,
   "id": "88d38a6d",
   "metadata": {},
   "outputs": [],
   "source": [
    "ytrue = np.argmax(y_test, axis=1).tolist()\n",
    "yhat = np.argmax(yhat, axis=1).tolist()"
   ]
  },
  {
   "cell_type": "code",
   "execution_count": 43,
   "id": "bbb96f35",
   "metadata": {},
   "outputs": [
    {
     "data": {
      "text/plain": [
       "array([[[2, 0],\n",
       "        [0, 2]],\n",
       "\n",
       "       [[3, 0],\n",
       "        [0, 1]],\n",
       "\n",
       "       [[3, 0],\n",
       "        [0, 1]]], dtype=int64)"
      ]
     },
     "execution_count": 43,
     "metadata": {},
     "output_type": "execute_result"
    }
   ],
   "source": [
    "multilabel_confusion_matrix(ytrue, yhat)"
   ]
  },
  {
   "cell_type": "code",
   "execution_count": 44,
   "id": "a508adab",
   "metadata": {},
   "outputs": [
    {
     "data": {
      "text/plain": [
       "1.0"
      ]
     },
     "execution_count": 44,
     "metadata": {},
     "output_type": "execute_result"
    }
   ],
   "source": [
    "accuracy_score(ytrue, yhat)"
   ]
  },
  {
   "cell_type": "code",
   "execution_count": 45,
   "id": "1c9ba6ab",
   "metadata": {},
   "outputs": [],
   "source": [
    "#Test in Real Time\n",
    "colors = [(245,117,16), (117,245,16), (16,117,245),(16,117,245)]\n",
    "def prob_viz(res, actions, input_frame, colors):\n",
    "    output_frame = input_frame.copy()\n",
    "    for num, prob in enumerate(res):\n",
    "        print(num,prob)\n",
    "        cv2.rectangle(output_frame, (0,60+num*40),(int(prob*100), 90+num*40), colors[num], -1)\n",
    "        cv2.putText(output_frame, actions[num], (0, 85+num*40), cv2.FONT_HERSHEY_SIMPLEX, 1, (255,255,255), 2, cv2.LINE_AA)\n",
    "        \n",
    "    return output_frame"
   ]
  },
  {
   "cell_type": "code",
   "execution_count": 46,
   "id": "180ab020",
   "metadata": {},
   "outputs": [],
   "source": [
    "#plt.figure(figsize=(10,10))\n",
    "#actions = np.array(['hello', 'Where', 'hospital'])\n",
    "#plt.imshow(prob_viz(res, actions, image, colors))"
   ]
  },
  {
   "cell_type": "code",
   "execution_count": 47,
   "id": "6c54dc90",
   "metadata": {},
   "outputs": [
    {
     "data": {
      "text/plain": [
       "<matplotlib.image.AxesImage at 0x15d7445b880>"
      ]
     },
     "execution_count": 47,
     "metadata": {},
     "output_type": "execute_result"
    },
    {
     "data": {
      "image/png": "[encoded data removed]",
      "text/plain": [
       "<Figure size 432x288 with 1 Axes>"
      ]
     },
     "metadata": {
      "needs_background": "light"
     },
     "output_type": "display_data"
    }
   ],
   "source": [
    "plt.imshow(image)"
   ]
  },
  {
   "cell_type": "code",
   "execution_count": 48,
   "id": "5a3c1541",
   "metadata": {},
   "outputs": [],
   "source": [
    " # Function to convert text to\n",
    "            # speech\n",
    "def SpeakText(command):\n",
    "# Initialize the engine\n",
    "    engine = pyttsx3.init()\n",
    "    engine.say(command)\n",
    "    engine.runAndWait()"
   ]
  },
  {
   "cell_type": "code",
   "execution_count": 49,
   "id": "4e1d11ab",
   "metadata": {},
   "outputs": [
    {
     "name": "stdout",
     "output_type": "stream",
     "text": [
      "<class 'mediapipe.python.solution_base.SolutionOutputs'>\n",
      "<class 'mediapipe.python.solution_base.SolutionOutputs'>\n",
      "<class 'mediapipe.python.solution_base.SolutionOutputs'>\n",
      "<class 'mediapipe.python.solution_base.SolutionOutputs'>\n",
      "<class 'mediapipe.python.solution_base.SolutionOutputs'>\n",
      "<class 'mediapipe.python.solution_base.SolutionOutputs'>\n",
      "<class 'mediapipe.python.solution_base.SolutionOutputs'>\n",
      "<class 'mediapipe.python.solution_base.SolutionOutputs'>\n",
      "<class 'mediapipe.python.solution_base.SolutionOutputs'>\n",
      "<class 'mediapipe.python.solution_base.SolutionOutputs'>\n",
      "<class 'mediapipe.python.solution_base.SolutionOutputs'>\n",
      "<class 'mediapipe.python.solution_base.SolutionOutputs'>\n",
      "<class 'mediapipe.python.solution_base.SolutionOutputs'>\n",
      "<class 'mediapipe.python.solution_base.SolutionOutputs'>\n",
      "<class 'mediapipe.python.solution_base.SolutionOutputs'>\n",
      "<class 'mediapipe.python.solution_base.SolutionOutputs'>\n",
      "<class 'mediapipe.python.solution_base.SolutionOutputs'>\n",
      "<class 'mediapipe.python.solution_base.SolutionOutputs'>\n",
      "<class 'mediapipe.python.solution_base.SolutionOutputs'>\n",
      "<class 'mediapipe.python.solution_base.SolutionOutputs'>\n",
      "<class 'mediapipe.python.solution_base.SolutionOutputs'>\n",
      "<class 'mediapipe.python.solution_base.SolutionOutputs'>\n",
      "<class 'mediapipe.python.solution_base.SolutionOutputs'>\n",
      "<class 'mediapipe.python.solution_base.SolutionOutputs'>\n",
      "<class 'mediapipe.python.solution_base.SolutionOutputs'>\n",
      "<class 'mediapipe.python.solution_base.SolutionOutputs'>\n",
      "<class 'mediapipe.python.solution_base.SolutionOutputs'>\n",
      "<class 'mediapipe.python.solution_base.SolutionOutputs'>\n",
      "<class 'mediapipe.python.solution_base.SolutionOutputs'>\n",
      "<class 'mediapipe.python.solution_base.SolutionOutputs'>\n",
      "0 0.0068414714\n",
      "1 0.9882565\n",
      "2 0.004605861\n",
      "3 0.00029611454\n",
      "<class 'mediapipe.python.solution_base.SolutionOutputs'>\n",
      "0 0.009393123\n",
      "1 0.98970747\n",
      "2 0.0008114942\n",
      "3 8.784944e-05\n",
      "<class 'mediapipe.python.solution_base.SolutionOutputs'>\n",
      "0 0.011537362\n",
      "1 0.9882636\n",
      "2 0.00014414146\n",
      "3 5.491704e-05\n",
      "<class 'mediapipe.python.solution_base.SolutionOutputs'>\n",
      "0 0.0153134735\n",
      "1 0.9846576\n",
      "2 1.2081632e-05\n",
      "3 1.6929476e-05\n",
      "<class 'mediapipe.python.solution_base.SolutionOutputs'>\n",
      "0 0.028834848\n",
      "1 0.9711629\n",
      "2 6.884894e-07\n",
      "3 1.5014133e-06\n",
      "<class 'mediapipe.python.solution_base.SolutionOutputs'>\n",
      "0 0.06542057\n",
      "1 0.9345793\n",
      "2 2.33609e-08\n",
      "3 8.160073e-08\n",
      "<class 'mediapipe.python.solution_base.SolutionOutputs'>\n",
      "0 0.17456728\n",
      "1 0.8254327\n",
      "2 4.4410486e-10\n",
      "3 2.5802689e-09\n",
      "<class 'mediapipe.python.solution_base.SolutionOutputs'>\n",
      "0 0.5184283\n",
      "1 0.48157167\n",
      "2 2.7008137e-12\n",
      "3 2.947271e-11\n",
      "<class 'mediapipe.python.solution_base.SolutionOutputs'>\n",
      "0 0.906515\n",
      "1 0.09348498\n",
      "2 2.7234316e-15\n",
      "3 6.902726e-14\n",
      "<class 'mediapipe.python.solution_base.SolutionOutputs'>\n",
      "0 0.9968539\n",
      "1 0.003146084\n",
      "2 2.310486e-18\n",
      "3 6.5312704e-16\n",
      "<class 'mediapipe.python.solution_base.SolutionOutputs'>\n",
      "0 0.99999034\n",
      "1 9.704405e-06\n",
      "2 8.669802e-21\n",
      "3 3.0247388e-15\n",
      "<class 'mediapipe.python.solution_base.SolutionOutputs'>\n",
      "0 0.9999999\n",
      "1 1.0040614e-07\n",
      "2 1.2171787e-25\n",
      "3 5.165628e-19\n",
      "<class 'mediapipe.python.solution_base.SolutionOutputs'>\n",
      "0 0.9999999\n",
      "1 6.442917e-08\n",
      "2 2.3695849e-26\n",
      "3 1.3045666e-19\n",
      "<class 'mediapipe.python.solution_base.SolutionOutputs'>\n",
      "0 1.0\n",
      "1 3.5838223e-08\n",
      "2 3.4752158e-27\n",
      "3 2.5086477e-20\n",
      "<class 'mediapipe.python.solution_base.SolutionOutputs'>\n",
      "0 1.0\n",
      "1 1.802616e-08\n",
      "2 4.036597e-28\n",
      "3 4.0081174e-21\n",
      "<class 'mediapipe.python.solution_base.SolutionOutputs'>\n",
      "0 1.0\n",
      "1 7.617834e-09\n",
      "2 3.203812e-29\n",
      "3 4.795769e-22\n",
      "<class 'mediapipe.python.solution_base.SolutionOutputs'>\n",
      "0 1.0\n",
      "1 3.7612957e-09\n",
      "2 3.7540023e-30\n",
      "3 8.0087885e-23\n",
      "<class 'mediapipe.python.solution_base.SolutionOutputs'>\n",
      "0 1.0\n",
      "1 1.2444409e-09\n",
      "2 1.2996115e-31\n",
      "3 5.9583015e-24\n",
      "<class 'mediapipe.python.solution_base.SolutionOutputs'>\n",
      "0 1.0\n",
      "1 8.422235e-10\n",
      "2 8.66045e-32\n",
      "3 4.3119192e-24\n",
      "<class 'mediapipe.python.solution_base.SolutionOutputs'>\n",
      "0 1.0\n",
      "1 1.7360197e-09\n",
      "2 8.276072e-31\n",
      "3 2.4264483e-23\n",
      "<class 'mediapipe.python.solution_base.SolutionOutputs'>\n",
      "0 1.0\n",
      "1 2.1674383e-08\n",
      "2 3.1742753e-29\n",
      "3 7.6629115e-23\n",
      "<class 'mediapipe.python.solution_base.SolutionOutputs'>\n",
      "0 0.9999993\n",
      "1 7.180016e-07\n",
      "2 1.488584e-32\n",
      "3 1.988933e-30\n",
      "<class 'mediapipe.python.solution_base.SolutionOutputs'>\n",
      "0 0.99999297\n",
      "1 6.9848943e-06\n",
      "2 1.1011684e-29\n",
      "3 1.8574982e-27\n",
      "<class 'mediapipe.python.solution_base.SolutionOutputs'>\n",
      "0 0.9999126\n",
      "1 8.740093e-05\n",
      "2 1.15005204e-26\n",
      "3 3.0400595e-24\n",
      "<class 'mediapipe.python.solution_base.SolutionOutputs'>\n",
      "0 0.99920636\n",
      "1 0.0007936191\n",
      "2 5.5752693e-24\n",
      "3 1.0141258e-21\n",
      "<class 'mediapipe.python.solution_base.SolutionOutputs'>\n",
      "0 0.9964875\n",
      "1 0.0035125248\n",
      "2 3.371655e-21\n",
      "3 1.4856032e-19\n",
      "<class 'mediapipe.python.solution_base.SolutionOutputs'>\n",
      "0 0.9478892\n",
      "1 0.05211079\n",
      "2 5.1770885e-17\n",
      "3 3.0522912e-16\n",
      "<class 'mediapipe.python.solution_base.SolutionOutputs'>\n",
      "0 0.7186268\n",
      "1 0.2813732\n",
      "2 3.336558e-11\n",
      "3 2.2367994e-09\n",
      "<class 'mediapipe.python.solution_base.SolutionOutputs'>\n",
      "0 0.11155983\n",
      "1 0.8884386\n",
      "2 7.296232e-08\n",
      "3 1.4445321e-06\n",
      "<class 'mediapipe.python.solution_base.SolutionOutputs'>\n",
      "0 0.0015320153\n",
      "1 0.99846613\n",
      "2 5.4903614e-07\n",
      "3 1.2816291e-06\n",
      "<class 'mediapipe.python.solution_base.SolutionOutputs'>\n",
      "0 5.8400896e-05\n",
      "1 0.9999372\n",
      "2 1.9403724e-06\n",
      "3 2.474941e-06\n",
      "<class 'mediapipe.python.solution_base.SolutionOutputs'>\n",
      "0 8.971393e-06\n",
      "1 0.9999589\n",
      "2 1.5142063e-05\n",
      "3 1.7105434e-05\n",
      "<class 'mediapipe.python.solution_base.SolutionOutputs'>\n",
      "0 2.5706468e-06\n",
      "1 0.9996511\n",
      "2 0.00011567194\n",
      "3 0.00023067095\n",
      "<class 'mediapipe.python.solution_base.SolutionOutputs'>\n",
      "0 1.1967156e-06\n",
      "1 0.9972851\n",
      "2 0.0012743275\n",
      "3 0.0014394039\n",
      "<class 'mediapipe.python.solution_base.SolutionOutputs'>\n",
      "0 4.4521703e-06\n",
      "1 0.99862266\n",
      "2 0.0005784434\n",
      "3 0.0007944758\n",
      "<class 'mediapipe.python.solution_base.SolutionOutputs'>\n",
      "0 0.00013524426\n",
      "1 0.9996692\n",
      "2 9.829587e-05\n",
      "3 9.728958e-05\n",
      "<class 'mediapipe.python.solution_base.SolutionOutputs'>\n",
      "0 0.048429564\n",
      "1 0.9514005\n",
      "2 3.6021625e-05\n",
      "3 0.00013377979\n",
      "<class 'mediapipe.python.solution_base.SolutionOutputs'>\n",
      "0 0.28388122\n",
      "1 0.7159614\n",
      "2 1.8391846e-05\n",
      "3 0.00013900241\n",
      "<class 'mediapipe.python.solution_base.SolutionOutputs'>\n",
      "0 0.83204097\n",
      "1 0.1679451\n",
      "2 7.623419e-07\n",
      "3 1.3124146e-05\n",
      "<class 'mediapipe.python.solution_base.SolutionOutputs'>\n",
      "0 0.9671268\n",
      "1 0.032872323\n",
      "2 2.7700358e-08\n",
      "3 9.3561545e-07\n",
      "<class 'mediapipe.python.solution_base.SolutionOutputs'>\n",
      "0 0.9987054\n",
      "1 0.001294643\n",
      "2 1.6439917e-11\n",
      "3 2.0527728e-09\n",
      "<class 'mediapipe.python.solution_base.SolutionOutputs'>\n",
      "0 0.9997094\n",
      "1 0.00029049854\n",
      "2 7.575706e-13\n",
      "3 1.3826254e-10\n",
      "<class 'mediapipe.python.solution_base.SolutionOutputs'>\n",
      "0 0.9999912\n",
      "1 8.83291e-06\n",
      "2 6.113453e-16\n",
      "3 3.035749e-13\n",
      "<class 'mediapipe.python.solution_base.SolutionOutputs'>\n",
      "0 0.9999976\n",
      "1 2.3403156e-06\n",
      "2 4.360173e-17\n",
      "3 2.9209277e-14\n",
      "<class 'mediapipe.python.solution_base.SolutionOutputs'>\n",
      "0 0.9999957\n",
      "1 4.3064783e-06\n",
      "2 2.2526386e-16\n",
      "3 1.0270926e-13\n",
      "<class 'mediapipe.python.solution_base.SolutionOutputs'>\n",
      "0 0.9999969\n",
      "1 3.1200361e-06\n",
      "2 1.06904015e-16\n",
      "3 5.909239e-14\n",
      "<class 'mediapipe.python.solution_base.SolutionOutputs'>\n",
      "0 0.9999951\n",
      "1 4.874021e-06\n",
      "2 2.252749e-16\n",
      "3 1.2776783e-13\n",
      "<class 'mediapipe.python.solution_base.SolutionOutputs'>\n",
      "0 0.99998915\n",
      "1 1.0808516e-05\n",
      "2 9.955436e-16\n",
      "3 5.673667e-13\n",
      "<class 'mediapipe.python.solution_base.SolutionOutputs'>\n",
      "0 0.9999757\n",
      "1 2.4368817e-05\n",
      "2 3.102666e-15\n",
      "3 2.2166006e-12\n",
      "<class 'mediapipe.python.solution_base.SolutionOutputs'>\n",
      "0 0.99991393\n",
      "1 8.6119e-05\n",
      "2 1.4779187e-14\n",
      "3 1.3358602e-11\n",
      "<class 'mediapipe.python.solution_base.SolutionOutputs'>\n",
      "0 0.9995016\n",
      "1 0.0004983957\n",
      "2 2.4608793e-13\n",
      "3 1.8938372e-10\n",
      "<class 'mediapipe.python.solution_base.SolutionOutputs'>\n",
      "0 0.99543554\n",
      "1 0.0045644646\n",
      "2 2.9715157e-11\n",
      "3 9.996668e-09\n",
      "<class 'mediapipe.python.solution_base.SolutionOutputs'>\n",
      "0 0.9685181\n",
      "1 0.03148166\n",
      "2 2.042685e-09\n",
      "3 2.851783e-07\n",
      "<class 'mediapipe.python.solution_base.SolutionOutputs'>\n",
      "0 0.4677486\n",
      "1 0.5322513\n",
      "2 2.9168811e-08\n",
      "3 1.1796909e-07\n",
      "<class 'mediapipe.python.solution_base.SolutionOutputs'>\n",
      "0 0.073504195\n",
      "1 0.926495\n",
      "2 3.4132634e-07\n",
      "3 4.3746908e-07\n",
      "<class 'mediapipe.python.solution_base.SolutionOutputs'>\n",
      "0 0.0034730206\n",
      "1 0.99650145\n",
      "2 1.2232506e-05\n",
      "3 1.3330611e-05\n",
      "<class 'mediapipe.python.solution_base.SolutionOutputs'>\n",
      "0 0.00031702797\n",
      "1 0.99950886\n",
      "2 0.00011634024\n",
      "3 5.7773417e-05\n",
      "<class 'mediapipe.python.solution_base.SolutionOutputs'>\n",
      "0 2.912464e-05\n",
      "1 0.94450456\n",
      "2 0.021219905\n",
      "3 0.03424643\n"
     ]
    },
    {
     "name": "stdout",
     "output_type": "stream",
     "text": [
      "<class 'mediapipe.python.solution_base.SolutionOutputs'>\n",
      "0 1.482667e-05\n",
      "1 0.0019622657\n",
      "2 0.093220055\n",
      "3 0.90480286\n",
      "<class 'mediapipe.python.solution_base.SolutionOutputs'>\n",
      "0 3.846255e-22\n",
      "1 1.5403849e-18\n",
      "2 0.00011025167\n",
      "3 0.99988973\n",
      "<class 'mediapipe.python.solution_base.SolutionOutputs'>\n",
      "0 1.3752618e-20\n",
      "1 5.118269e-17\n",
      "2 0.008560406\n",
      "3 0.9914396\n",
      "<class 'mediapipe.python.solution_base.SolutionOutputs'>\n",
      "0 3.8339536e-15\n",
      "1 1.598795e-10\n",
      "2 0.9996088\n",
      "3 0.00039117306\n",
      "<class 'mediapipe.python.solution_base.SolutionOutputs'>\n",
      "0 2.0206551e-12\n",
      "1 5.8213004e-06\n",
      "2 0.9999939\n",
      "3 2.619956e-07\n",
      "<class 'mediapipe.python.solution_base.SolutionOutputs'>\n",
      "0 2.733957e-13\n",
      "1 7.535468e-08\n",
      "2 0.9999964\n",
      "3 3.5440808e-06\n"
     ]
    }
   ],
   "source": [
    "# 1. New detection variables\n",
    "sequence = []\n",
    "sentence = []\n",
    "threshold = 0.8\n",
    "\n",
    "cap = cv2.VideoCapture(0)\n",
    "# Set mediapipe model \n",
    "with mp_holistic.Holistic(min_detection_confidence=0.5, min_tracking_confidence=0.5) as holistic:\n",
    "    while cap.isOpened():\n",
    "\n",
    "        # Read feed\n",
    "        ret, frame = cap.read()\n",
    "\n",
    "        # Make detections\n",
    "        image, results = mediapipe_hand_Detection(frame, holistic)\n",
    "        print(results)\n",
    "        \n",
    "        # Draw landmarks\n",
    "        draw_hand_style_landmarks(image, results)\n",
    "        \n",
    "        # 2. Prediction logic\n",
    "        keypoints = extract_keypoints(results)\n",
    "#         sequence.insert(0,keypoints)\n",
    "#         sequence = sequence[:30]\n",
    "        sequence.append(keypoints)\n",
    "        sequence = sequence[-30:]\n",
    "        \n",
    "        if len(sequence) == 30:\n",
    "            res = model.predict(np.expand_dims(sequence, axis=0))[0]\n",
    "            #print(actions[np.argmax(res)])\n",
    "            \n",
    "            \n",
    "        #3. Viz logic\n",
    "            if res[np.argmax(res)] > threshold: \n",
    "                if len(sentence) > 0: \n",
    "                    if actions[np.argmax(res)] != sentence[-1]:\n",
    "                        sentence.append(actions[np.argmax(res)])\n",
    "                else:\n",
    "                    sentence.append(actions[np.argmax(res)])\n",
    "\n",
    "            if len(sentence) > 5: \n",
    "                sentence = sentence[-5:]\n",
    "\n",
    "            # Viz probabilities\n",
    "            image = prob_viz(res, actions, image, colors)\n",
    "            \n",
    "            #Convert Text to Sound\n",
    "            engine=pyttsx3.init()\n",
    "            saying=actions[np.argmax(res)]\n",
    "            engine.say(saying)\n",
    "            time.sleep(1)\n",
    "            engine.runAndWait()\n",
    "            \n",
    "        cv2.rectangle(image, (0,0), (640, 40), (245, 117, 16), -1)\n",
    "        cv2.putText(image, ' '.join(sentence), (3,30), \n",
    "                       cv2.FONT_HERSHEY_SIMPLEX, 1, (255, 255, 255), 2, cv2.LINE_AA)\n",
    "        \n",
    "        # Show to screen\n",
    "        cv2.imshow('OpenCV Feed', image)\n",
    "        \n",
    "        # Break gracefully\n",
    "        if cv2.waitKey(10) & 0xFF == ord('q'):\n",
    "            break\n",
    "        \n",
    "    cap.release()\n",
    "    cv2.destroyAllWindows()"
   ]
  },
  {
   "cell_type": "code",
   "execution_count": null,
   "id": "167220c0",
   "metadata": {},
   "outputs": [],
   "source": [
    "        # Initialize the recognizer\n",
    "        r = sr.Recognizer()\n",
    "        \n",
    "        #while(1):\n",
    "        try:\n",
    "\t\t# use the microphone as source for input.\n",
    "            with sr.Microphone() as source2:\n",
    "                \n",
    "                r.adjust_for_ambient_noise(source2, duration=0.2)\n",
    "\t\t\t#listens for the user's input\n",
    "                audio2 = r.listen(source2)\n",
    "\t\t\t# Using google to recognize audio\n",
    "                MyText = r.recognize_google(audio2)\n",
    "                MyText = MyText.lower()\n",
    "\n",
    "                print(\"Did you say \"+MyText)\n",
    "                SpeakText(MyText)\n",
    "\n",
    "        except sr.RequestError as e:\n",
    "                print(\"Could not request results; {0}\".format(e))\n",
    "\n",
    "        except sr.UnknownValueError:\n",
    "                print(\"unknown error occured\")\n",
    "\n",
    "        if cv2.waitKey(10) & 0xFF == ord('q'):\n",
    "            break"
   ]
  },
  {
   "cell_type": "code",
   "execution_count": null,
   "id": "cef9b7ac",
   "metadata": {},
   "outputs": [],
   "source": [
    "np.version.version\n",
    "from platform import python_version\n",
    "print(python_version())\n",
    "import tensorflow as tf\n",
    "print(tf. __version__) "
   ]
  },
  {
   "cell_type": "code",
   "execution_count": 57,
   "id": "40e549da",
   "metadata": {},
   "outputs": [],
   "source": [
    "def test_different_voices(test_str,num_voices,speech_engine):\n",
    "    voices=speech_engine.getProperty('voices')\n",
    "    idx_found=-1\n",
    "    if num_voices > len(voices):\n",
    "        num_voices=len(voices)\n",
    "        \n",
    "    \n",
    "    for idx,voice in enumerate(voices[:num_voices]):\n",
    "        speech_engine.setProperty('voice',voice.id)\n",
    "        cur_voice=[val for val in speech_engine.getProperty('voices') if val.id==voice.id][0]\n",
    "        voice.welcome=f'I my name is {cur_voice.name}'\n",
    "        engine.say(voice.welcome + test_str)"
   ]
  },
  {
   "cell_type": "code",
   "execution_count": 62,
   "id": "669b06cb",
   "metadata": {},
   "outputs": [],
   "source": [
    "#pip install speechrecognition"
   ]
  },
  {
   "cell_type": "code",
   "execution_count": 73,
   "id": "94e6075d",
   "metadata": {},
   "outputs": [
    {
     "name": "stdout",
     "output_type": "stream",
     "text": [
      "unknown error occured\n",
      "Did you say hello\n"
     ]
    },
    {
     "ename": "KeyboardInterrupt",
     "evalue": "",
     "output_type": "error",
     "traceback": [
      "\u001b[1;31m---------------------------------------------------------------------------\u001b[0m",
      "\u001b[1;31mKeyboardInterrupt\u001b[0m                         Traceback (most recent call last)",
      "\u001b[1;32m~\\AppData\\Local\\Temp/ipykernel_7200/3833897160.py\u001b[0m in \u001b[0;36m<module>\u001b[1;34m\u001b[0m\n\u001b[0;32m     37\u001b[0m \u001b[1;33m\u001b[0m\u001b[0m\n\u001b[0;32m     38\u001b[0m                         \u001b[1;31m#listens for the user's input\u001b[0m\u001b[1;33m\u001b[0m\u001b[1;33m\u001b[0m\u001b[0m\n\u001b[1;32m---> 39\u001b[1;33m                         \u001b[0maudio2\u001b[0m \u001b[1;33m=\u001b[0m \u001b[0mr\u001b[0m\u001b[1;33m.\u001b[0m\u001b[0mlisten\u001b[0m\u001b[1;33m(\u001b[0m\u001b[0msource2\u001b[0m\u001b[1;33m)\u001b[0m\u001b[1;33m\u001b[0m\u001b[1;33m\u001b[0m\u001b[0m\n\u001b[0m\u001b[0;32m     40\u001b[0m \u001b[1;33m\u001b[0m\u001b[0m\n\u001b[0;32m     41\u001b[0m                         \u001b[1;31m# Using google to recognize audio\u001b[0m\u001b[1;33m\u001b[0m\u001b[1;33m\u001b[0m\u001b[0m\n",
      "\u001b[1;32m~\\anaconda3\\lib\\site-packages\\speech_recognition\\__init__.py\u001b[0m in \u001b[0;36mlisten\u001b[1;34m(self, source, timeout, phrase_time_limit, snowboy_configuration)\u001b[0m\n\u001b[0;32m    650\u001b[0m                     \u001b[1;32mbreak\u001b[0m\u001b[1;33m\u001b[0m\u001b[1;33m\u001b[0m\u001b[0m\n\u001b[0;32m    651\u001b[0m \u001b[1;33m\u001b[0m\u001b[0m\n\u001b[1;32m--> 652\u001b[1;33m                 \u001b[0mbuffer\u001b[0m \u001b[1;33m=\u001b[0m \u001b[0msource\u001b[0m\u001b[1;33m.\u001b[0m\u001b[0mstream\u001b[0m\u001b[1;33m.\u001b[0m\u001b[0mread\u001b[0m\u001b[1;33m(\u001b[0m\u001b[0msource\u001b[0m\u001b[1;33m.\u001b[0m\u001b[0mCHUNK\u001b[0m\u001b[1;33m)\u001b[0m\u001b[1;33m\u001b[0m\u001b[1;33m\u001b[0m\u001b[0m\n\u001b[0m\u001b[0;32m    653\u001b[0m                 \u001b[1;32mif\u001b[0m \u001b[0mlen\u001b[0m\u001b[1;33m(\u001b[0m\u001b[0mbuffer\u001b[0m\u001b[1;33m)\u001b[0m \u001b[1;33m==\u001b[0m \u001b[1;36m0\u001b[0m\u001b[1;33m:\u001b[0m \u001b[1;32mbreak\u001b[0m  \u001b[1;31m# reached end of the stream\u001b[0m\u001b[1;33m\u001b[0m\u001b[1;33m\u001b[0m\u001b[0m\n\u001b[0;32m    654\u001b[0m                 \u001b[0mframes\u001b[0m\u001b[1;33m.\u001b[0m\u001b[0mappend\u001b[0m\u001b[1;33m(\u001b[0m\u001b[0mbuffer\u001b[0m\u001b[1;33m)\u001b[0m\u001b[1;33m\u001b[0m\u001b[1;33m\u001b[0m\u001b[0m\n",
      "\u001b[1;32m~\\anaconda3\\lib\\site-packages\\speech_recognition\\__init__.py\u001b[0m in \u001b[0;36mread\u001b[1;34m(self, size)\u001b[0m\n\u001b[0;32m    159\u001b[0m \u001b[1;33m\u001b[0m\u001b[0m\n\u001b[0;32m    160\u001b[0m         \u001b[1;32mdef\u001b[0m \u001b[0mread\u001b[0m\u001b[1;33m(\u001b[0m\u001b[0mself\u001b[0m\u001b[1;33m,\u001b[0m \u001b[0msize\u001b[0m\u001b[1;33m)\u001b[0m\u001b[1;33m:\u001b[0m\u001b[1;33m\u001b[0m\u001b[1;33m\u001b[0m\u001b[0m\n\u001b[1;32m--> 161\u001b[1;33m             \u001b[1;32mreturn\u001b[0m \u001b[0mself\u001b[0m\u001b[1;33m.\u001b[0m\u001b[0mpyaudio_stream\u001b[0m\u001b[1;33m.\u001b[0m\u001b[0mread\u001b[0m\u001b[1;33m(\u001b[0m\u001b[0msize\u001b[0m\u001b[1;33m,\u001b[0m \u001b[0mexception_on_overflow\u001b[0m\u001b[1;33m=\u001b[0m\u001b[1;32mFalse\u001b[0m\u001b[1;33m)\u001b[0m\u001b[1;33m\u001b[0m\u001b[1;33m\u001b[0m\u001b[0m\n\u001b[0m\u001b[0;32m    162\u001b[0m \u001b[1;33m\u001b[0m\u001b[0m\n\u001b[0;32m    163\u001b[0m         \u001b[1;32mdef\u001b[0m \u001b[0mclose\u001b[0m\u001b[1;33m(\u001b[0m\u001b[0mself\u001b[0m\u001b[1;33m)\u001b[0m\u001b[1;33m:\u001b[0m\u001b[1;33m\u001b[0m\u001b[1;33m\u001b[0m\u001b[0m\n",
      "\u001b[1;32m~\\anaconda3\\lib\\site-packages\\pyaudio.py\u001b[0m in \u001b[0;36mread\u001b[1;34m(self, num_frames, exception_on_overflow)\u001b[0m\n\u001b[0;32m    606\u001b[0m                           paCanNotReadFromAnOutputOnlyStream)\n\u001b[0;32m    607\u001b[0m \u001b[1;33m\u001b[0m\u001b[0m\n\u001b[1;32m--> 608\u001b[1;33m         \u001b[1;32mreturn\u001b[0m \u001b[0mpa\u001b[0m\u001b[1;33m.\u001b[0m\u001b[0mread_stream\u001b[0m\u001b[1;33m(\u001b[0m\u001b[0mself\u001b[0m\u001b[1;33m.\u001b[0m\u001b[0m_stream\u001b[0m\u001b[1;33m,\u001b[0m \u001b[0mnum_frames\u001b[0m\u001b[1;33m,\u001b[0m \u001b[0mexception_on_overflow\u001b[0m\u001b[1;33m)\u001b[0m\u001b[1;33m\u001b[0m\u001b[1;33m\u001b[0m\u001b[0m\n\u001b[0m\u001b[0;32m    609\u001b[0m \u001b[1;33m\u001b[0m\u001b[0m\n\u001b[0;32m    610\u001b[0m     \u001b[1;32mdef\u001b[0m \u001b[0mget_read_available\u001b[0m\u001b[1;33m(\u001b[0m\u001b[0mself\u001b[0m\u001b[1;33m)\u001b[0m\u001b[1;33m:\u001b[0m\u001b[1;33m\u001b[0m\u001b[1;33m\u001b[0m\u001b[0m\n",
      "\u001b[1;31mKeyboardInterrupt\u001b[0m: "
     ]
    }
   ],
   "source": [
    "# Python program to translate\n",
    "# speech to text and text to speech\n",
    "\n",
    "\n",
    "import speech_recognition as sr\n",
    "import pyttsx3\n",
    "\n",
    "# Initialize the recognizer\n",
    "r = sr.Recognizer()\n",
    "\n",
    "# Function to convert text to\n",
    "# speech\n",
    "def SpeakText(command):\n",
    "\t\n",
    "\t# Initialize the engine\n",
    "\tengine = pyttsx3.init()\n",
    "\tengine.say(command)\n",
    "\tengine.runAndWait()\n",
    "\t\n",
    "\t\n",
    "# Loop infinitely for user to\n",
    "# speak\n",
    "\n",
    "while(1):\n",
    "    \n",
    "\t\n",
    "\t# Exception handling to handle\n",
    "\t# exceptions at the runtime\n",
    "\ttry:\n",
    "\t\t\n",
    "\t\t# use the microphone as source for input.\n",
    "\t\twith sr.Microphone() as source2:\n",
    "            \n",
    "            \n",
    "\t\t\t\n",
    "\t\t\t# wait for a second to let the recognizer\n",
    "\t\t\t# adjust the energy threshold based on\n",
    "\t\t\t# the surrounding noise level\n",
    "\t\t\tr.adjust_for_ambient_noise(source2, duration=0.2)\n",
    "\t\t\t\n",
    "\t\t\t#listens for the user's input\n",
    "\t\t\taudio2 = r.listen(source2)\n",
    "\t\t\t\n",
    "\t\t\t# Using google to recognize audio\n",
    "\t\t\tMyText = r.recognize_google(audio2)\n",
    "\t\t\tMyText = MyText.lower()\n",
    "\n",
    "\t\t\tprint(\"Did you say \"+MyText)\n",
    "\t\t\tSpeakText(MyText)\n",
    "\t\t\t\n",
    "\texcept sr.RequestError as e:\n",
    "\t\tprint(\"Could not request results; {0}\".format(e))\n",
    "\t\t\n",
    "\texcept sr.UnknownValueError:\n",
    "\t\tprint(\"unknown error occured\")\n"
   ]
  },
  {
   "cell_type": "code",
   "execution_count": null,
   "id": "018f35e4",
   "metadata": {},
   "outputs": [],
   "source": []
  },
  {
   "cell_type": "code",
   "execution_count": null,
   "id": "dd78c64d",
   "metadata": {},
   "outputs": [],
   "source": []
  }
 ],
 "metadata": {
  "kernelspec": {
   "display_name": "Python 3 (ipykernel)",
   "language": "python",
   "name": "python3"
  },
  "language_info": {
   "codemirror_mode": {
    "name": "ipython",
    "version": 3
   },
   "file_extension": ".py",
   "mimetype": "text/x-python",
   "name": "python",
   "nbconvert_exporter": "python",
   "pygments_lexer": "ipython3",
   "version": "3.9.7"
  }
 },
 "nbformat": 4,
 "nbformat_minor": 5
}
